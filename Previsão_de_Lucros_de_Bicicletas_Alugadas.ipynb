{
  "nbformat": 4,
  "nbformat_minor": 0,
  "metadata": {
    "colab": {
      "provenance": [],
      "authorship_tag": "ABX9TyPSiwlar+qbKiacgvpv2Qv6",
      "include_colab_link": true
    },
    "kernelspec": {
      "name": "python3",
      "display_name": "Python 3"
    },
    "language_info": {
      "name": "python"
    }
  },
  "cells": [
    {
      "cell_type": "markdown",
      "metadata": {
        "id": "view-in-github",
        "colab_type": "text"
      },
      "source": [
        "<a href=\"https://colab.research.google.com/github/DuarteVn/bicycle-sales-prediction/blob/main/Previs%C3%A3o_de_Lucros_de_Bicicletas_Alugadas.ipynb\" target=\"_parent\"><img src=\"https://colab.research.google.com/assets/colab-badge.svg\" alt=\"Open In Colab\"/></a>"
      ]
    },
    {
      "cell_type": "markdown",
      "source": [
        "# Definição do Problema"
      ],
      "metadata": {
        "id": "Ynh_E6NaUq-6"
      }
    },
    {
      "cell_type": "markdown",
      "source": [
        "O objetivo é prever o uso de bicicletas alugadas baseado na\n",
        "temperatura, umidade, velocidade etc..\n",
        "*Ou seja, várias entradas* **(12)**"
      ],
      "metadata": {
        "id": "z615mm0bUuu3"
      }
    },
    {
      "cell_type": "markdown",
      "source": [
        "# Etapa 1: Importando Biblioteca"
      ],
      "metadata": {
        "id": "gnj0pl0sLTL0"
      }
    },
    {
      "cell_type": "code",
      "execution_count": null,
      "metadata": {
        "id": "AWOsJLtXgxsA"
      },
      "outputs": [],
      "source": [
        "# %tensorflow_version 2.x\n",
        "import tensorflow as tf\n",
        "import numpy as np\n",
        "import pandas as pd\n",
        "import matplotlib.pyplot as plt\n",
        "import seaborn as sns\n",
        "from sklearn.preprocessing import MinMaxScaler\n",
        "tf.__version__"
      ]
    },
    {
      "cell_type": "markdown",
      "source": [
        "# Etapa 2: Importação da Base de dados"
      ],
      "metadata": {
        "id": "LeCc8fZTE9y8"
      }
    }
  ]
}